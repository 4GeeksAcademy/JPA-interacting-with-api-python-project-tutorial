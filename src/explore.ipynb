{
    "cells": [
        {
            "cell_type": "markdown",
            "metadata": {},
            "source": [
                "# Explore here"
            ]
        },
        {
            "cell_type": "code",
            "execution_count": 7,
            "metadata": {},
            "outputs": [],
            "source": [
                "import os\n",
                "import spotipy\n",
                "import numpy as np\n",
                "from dotenv import load_dotenv\n",
                "\n",
                "# load the .env file variables\n",
                "load_dotenv()\n",
                "\n",
                "# Get credential values\n",
                "client_id = os.environ.get(\"CLIENT_ID\")\n",
                "client_secret = os.environ.get(\"CLIENT_SECRET\")\n",
                "redirect_uri = os.environ.get(\"REDIRECT_URI\")\n",
                "\n",
                "# Authenticate using Client Credentials Flow\n",
                "\n",
                "from spotipy.oauth2 import SpotifyClientCredentials\n",
                "\n",
                "auth_manager = SpotifyClientCredentials(client_id=client_id, client_secret=client_secret)\n",
                "spotify = spotipy.Spotify(auth_manager=auth_manager)"
            ]
        },
        {
            "cell_type": "code",
            "execution_count": 8,
            "metadata": {},
            "outputs": [
                {
                    "data": {
                        "text/html": [
                            "<div>\n",
                            "<style scoped>\n",
                            "    .dataframe tbody tr th:only-of-type {\n",
                            "        vertical-align: middle;\n",
                            "    }\n",
                            "\n",
                            "    .dataframe tbody tr th {\n",
                            "        vertical-align: top;\n",
                            "    }\n",
                            "\n",
                            "    .dataframe thead th {\n",
                            "        text-align: right;\n",
                            "    }\n",
                            "</style>\n",
                            "<table border=\"1\" class=\"dataframe\">\n",
                            "  <thead>\n",
                            "    <tr style=\"text-align: right;\">\n",
                            "      <th></th>\n",
                            "      <th>Name</th>\n",
                            "      <th>Popularity</th>\n",
                            "      <th>Duration (min)</th>\n",
                            "    </tr>\n",
                            "  </thead>\n",
                            "  <tbody>\n",
                            "    <tr>\n",
                            "      <th>0</th>\n",
                            "      <td>Sungazing - Electronic Mix</td>\n",
                            "      <td>60</td>\n",
                            "      <td>4.12</td>\n",
                            "    </tr>\n",
                            "    <tr>\n",
                            "      <th>1</th>\n",
                            "      <td>Front &amp; Back Seat</td>\n",
                            "      <td>57</td>\n",
                            "      <td>2.85</td>\n",
                            "    </tr>\n",
                            "    <tr>\n",
                            "      <th>2</th>\n",
                            "      <td>Different Side</td>\n",
                            "      <td>56</td>\n",
                            "      <td>3.23</td>\n",
                            "    </tr>\n",
                            "    <tr>\n",
                            "      <th>3</th>\n",
                            "      <td>Lil Freaky</td>\n",
                            "      <td>51</td>\n",
                            "      <td>3.50</td>\n",
                            "    </tr>\n",
                            "    <tr>\n",
                            "      <th>4</th>\n",
                            "      <td>La Murga - Michael's Midnight Mix</td>\n",
                            "      <td>51</td>\n",
                            "      <td>3.45</td>\n",
                            "    </tr>\n",
                            "    <tr>\n",
                            "      <th>5</th>\n",
                            "      <td>Got The Fire</td>\n",
                            "      <td>51</td>\n",
                            "      <td>3.68</td>\n",
                            "    </tr>\n",
                            "    <tr>\n",
                            "      <th>6</th>\n",
                            "      <td>Bocat - Michael Bibi Remix</td>\n",
                            "      <td>46</td>\n",
                            "      <td>6.12</td>\n",
                            "    </tr>\n",
                            "    <tr>\n",
                            "      <th>7</th>\n",
                            "      <td>PARADISE</td>\n",
                            "      <td>45</td>\n",
                            "      <td>3.61</td>\n",
                            "    </tr>\n",
                            "    <tr>\n",
                            "      <th>8</th>\n",
                            "      <td>Lemonade</td>\n",
                            "      <td>44</td>\n",
                            "      <td>6.23</td>\n",
                            "    </tr>\n",
                            "    <tr>\n",
                            "      <th>9</th>\n",
                            "      <td>Garden Of Groove</td>\n",
                            "      <td>42</td>\n",
                            "      <td>7.23</td>\n",
                            "    </tr>\n",
                            "  </tbody>\n",
                            "</table>\n",
                            "</div>"
                        ],
                        "text/plain": [
                            "                                Name  Popularity  Duration (min)\n",
                            "0         Sungazing - Electronic Mix          60            4.12\n",
                            "1                  Front & Back Seat          57            2.85\n",
                            "2                     Different Side          56            3.23\n",
                            "3                         Lil Freaky          51            3.50\n",
                            "4  La Murga - Michael's Midnight Mix          51            3.45\n",
                            "5                       Got The Fire          51            3.68\n",
                            "6         Bocat - Michael Bibi Remix          46            6.12\n",
                            "7                           PARADISE          45            3.61\n",
                            "8                           Lemonade          44            6.23\n",
                            "9                   Garden Of Groove          42            7.23"
                        ]
                    },
                    "execution_count": 8,
                    "metadata": {},
                    "output_type": "execute_result"
                }
            ],
            "source": [
                "import pandas as pd\n",
                "# Artist ID for Michael Bibi\n",
                "\n",
                "artist_id = '4cvdQRyHmkSQSakUrW2oxv'\n",
                "\n",
                "# Get top tracks \n",
                "top_tracks = spotify.artist_top_tracks(artist_id, country=\"US\")\n",
                "\n",
                "# Extract name, popularity, and duration (in minutes)\n",
                "track_data = []\n",
                "\n",
                "# Get the top 10 songs\n",
                "for track in top_tracks[\"tracks\"][:10]:  # Limit to top 10\n",
                "    name = track[\"name\"]\n",
                "    popularity = track[\"popularity\"]\n",
                "    duration_min = round(track[\"duration_ms\"] / (1000 * 60), 2)\n",
                "    track_data.append({\n",
                "        \"Name\": name,\n",
                "        \"Popularity\": popularity,\n",
                "        \"Duration (min)\": duration_min\n",
                "    })\n",
                "\n",
                "# Convert to DataFrame\n",
                "df = pd.DataFrame(track_data)\n",
                "\n",
                "# Show the table\n",
                "df\n",
                "\n"
            ]
        },
        {
            "cell_type": "code",
            "execution_count": 9,
            "metadata": {},
            "outputs": [
                {
                    "name": "stdout",
                    "output_type": "stream",
                    "text": [
                        "\n",
                        "Top 3 Songs by increasing Popularity:\n",
                        "\n",
                        "                      Name  Popularity  Duration (min)\n",
                        "            Different Side          56            3.23\n",
                        "         Front & Back Seat          57            2.85\n",
                        "Sungazing - Electronic Mix          60            4.12\n"
                    ]
                }
            ],
            "source": [
                "# Convert to DataFrame\n",
                "df = pd.DataFrame(track_data)\n",
                "\n",
                "# Sort by increasing popularity\n",
                "df_sorted = df.sort_values(by=\"Popularity\", ascending=True)\n",
                "\n",
                "# Show the top 3 songs (least popular to most)\n",
                "print(\"\\nTop 3 Songs by increasing Popularity:\\n\")\n",
                "print(df_sorted.tail(3).to_string(index=False))"
            ]
        },
        {
            "cell_type": "code",
            "execution_count": 10,
            "metadata": {},
            "outputs": [
                {
                    "name": "stderr",
                    "output_type": "stream",
                    "text": [
                        "/tmp/ipykernel_1658/1057131682.py:12: UserWarning: Glyph 127911 (\\N{HEADPHONE}) missing from font(s) DejaVu Sans.\n",
                        "  plt.tight_layout()\n",
                        "/home/vscode/.local/lib/python3.11/site-packages/IPython/core/pylabtools.py:170: UserWarning: Glyph 127911 (\\N{HEADPHONE}) missing from font(s) DejaVu Sans.\n",
                        "  fig.canvas.print_figure(bytes_io, **kw)\n"
                    ]
                },
                {
                    "data": {
                        "image/png": "[encoded data removed]",
                        "text/plain": [
                            "<Figure size 800x500 with 1 Axes>"
                        ]
                    },
                    "metadata": {},
                    "output_type": "display_data"
                }
            ],
            "source": [
                "import matplotlib.pyplot as plt\n",
                "import seaborn as sns\n",
                "\n",
                "# Create the scatter plot\n",
                "plt.figure(figsize=(8, 5))\n",
                "sns.scatterplot(data=df, x=\"Duration (min)\", y=\"Popularity\", s=80, color=\"teal\")\n",
                "\n",
                "plt.title(\"🎧 Song Duration vs Popularity\")\n",
                "plt.xlabel(\"Duration (minutes)\")\n",
                "plt.ylabel(\"Popularity\")\n",
                "plt.grid(True)\n",
                "plt.tight_layout()\n",
                "plt.show()\n"
            ]
        }
    ],
    "metadata": {
        "kernelspec": {
            "display_name": "Python 3",
            "language": "python",
            "name": "python3"
        },
        "language_info": {
            "codemirror_mode": {
                "name": "ipython",
                "version": 3
            },
            "file_extension": ".py",
            "mimetype": "text/x-python",
            "name": "python",
            "nbconvert_exporter": "python",
            "pygments_lexer": "ipython3",
            "version": "3.11.4"
        },
        "orig_nbformat": 4
    },
    "nbformat": 4,
    "nbformat_minor": 2
}
